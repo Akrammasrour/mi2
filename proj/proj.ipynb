{
 "cells": [
  {
   "cell_type": "markdown",
   "metadata": {},
   "source": [
    "![PNS](http://caillau.perso.math.cnrs.fr/logo-pns.png)\n",
    "## MAM3 - MI2\n",
    "# TD 5 - Séries de Fourier\n",
    "\n",
    "[![Binder](https://static.mybinder.org/badge_logo.svg)](https://mybinder.org/v2/gh/jbcaillau/mi2/master?urlpath=lab/tree/td5/td5.ipynb)\n",
    "\n",
    "[![Open In Colab](https://colab.research.google.com/assets/colab-badge.svg)](https://colab.research.google.com/github/jbcaillau/mi2/blob/master/td5/td5.ipynb)\n",
    "\n",
    "## Exercice 1 (Fonction $\\zeta$ de Riemann)\n",
    "\n",
    "Soit\n",
    "$$ \\zeta(s) = \\sum_{n \\geq 1} \\frac{1}{n^s},\\ s \\in ]1,+\\infty[. $$\n",
    "Calculer $\\zeta(2)$, $\\zeta(4)$ et $\\zeta(6)$.\n",
    "\n",
    "NB. Le calcul de $\\zeta(2)$ est connu sous le nom de [problème de Bâle](https://fr.wikipedia.org/wiki/Problème_de_Bâle).\n",
    "[L'hypothèse de Riemann](https://fr.wikipedia.org/wiki/Hypothèse_de_Riemann) fait partie des plus célèbres conjectures en mathématique."
   ]
  },
  {
   "cell_type": "code",
   "execution_count": 2,
   "metadata": {},
   "outputs": [
    {
     "name": "stdout",
     "output_type": "stream",
     "text": [
      "zeta(2.0) ~ 1.634983900184893\n",
      "6.036514732636357\n"
     ]
    }
   ],
   "source": [
    "import numpy as np\n",
    "from numpy import pi as pi\n",
    "s = 2.\n",
    "N = 100\n",
    "zeta = 0.\n",
    "for n in range(N, 0, -1):\n",
    "    zeta = zeta + 1./n**s\n",
    "print(f'zeta({s}) ~ {zeta}')\n",
    "print(pi**s/zeta)"
   ]
  },
  {
   "cell_type": "markdown",
   "metadata": {},
   "source": [
    "## Exercice 2\n",
    "Soit $f \\in \\mathbf{R}^\\mathbf{R}$, paire et $2\\pi$-périodique définie par\n",
    "$f(x)=\\pi-2x$ sur $[0,\\pi[$.\n",
    "\n",
    "### 2.1\n",
    "Donner l'expression de la série de Fourier de $f$\n",
    "sur la base hilbertienne des polynômes trigonométriques.\n",
    "\n",
    "### 2.2\n",
    "Indiquer la nature de la convergence de la série de\n",
    "Fourier de $f$.\n",
    "\n",
    "### 2.3\n",
    "En déduire\n",
    "$$ \\sum_{p \\geq 0} \\frac{1}{(2p+1)^2}\\ \\text{et}\\ \n",
    "   \\sum_{p \\geq 0} \\frac{1}{(2p+1)^4}\\cdot$$"
   ]
  },
  {
   "cell_type": "code",
   "execution_count": 6,
   "metadata": {},
   "outputs": [
    {
     "name": "stdout",
     "output_type": "stream",
     "text": [
      "somme(s=2.0) ~ 1.2312253228313517\n",
      "8.016083017520309\n"
     ]
    }
   ],
   "source": [
    "s = 2.\n",
    "N = 100\n",
    "sum = 0.\n",
    "for n in range(N, -1, -1):\n",
    "    sum = sum + 1./(2*n+1)**s\n",
    "print(f'somme(s={s}) ~ {sum}')\n",
    "print(pi**s/sum)"
   ]
  },
  {
   "cell_type": "markdown",
   "metadata": {},
   "source": [
    "## Exercice 3\n",
    "Soit $f \\in \\mathbf{R}^\\mathbf{R}$ $2\\pi$-périodique définie par \n",
    "$f(x)=e^{ax}$ sur $[0,2\\pi[$ ($a \\neq 0$).\n",
    "\n",
    "### 3.1\n",
    "Donner l'expression de la série de Fourier de $f$\n",
    "sur la base hilbertienne des polynômes trigonométriques.\n",
    "\n",
    "### 3.2\n",
    "Indiquer la nature de la convergence de la série de\n",
    "Fourier de $f$.\n",
    "\n",
    "### 3.3\n",
    "En déduire\n",
    "$$ \\sum_{n \\geq 1} \\frac{a}{a^2+n^2}\\cos nx\\ \\text{et}\\ \n",
    "   \\sum_{n \\geq 1} \\frac{n}{a^2+n^2}\\sin nx. $$\n",
    "\n",
    "### 3.4\n",
    "En déduire également\n",
    "$$ \\sum_{n \\geq 1} \\frac{1}{(a^2+n^2)^2}\\ \\text{et}\\ \n",
    "   \\sum_{n \\geq 1} \\frac{n^2}{(a^2+n^2)^2} \\cdot $$\n",
    "(Rappel : $\\mathrm{ch}\\,x=(e^x+e^{-x})/2$ et $\\mathrm{sh}\\,x=(e^x-e^{-x})/2$.)\n",
    "\n",
    "## Exercice 4\n",
    "Soit $E$ l'ensemble des (classes de) fonctions\n",
    "mesurables $x:[0,1] \\to \\mathbf{R}$ telles que\n",
    "$$ \\int_{[0,1]} \\frac{|x(t)|^2}{t}\\,\\mathrm{d}t < \\infty. $$\n",
    "\n",
    "### 4.1\n",
    "Montrer que $E$ est un espace vectoriel\n",
    "contenant les fonctions continues qui sont nulles et dérivables à l'origine.\n",
    "\n",
    "### 4.2\n",
    "Montrer que\n",
    "$$ (x|y) = \\int_{[0,1]} \\frac{x(t)y(t)}{t}\\,\\mathrm{d}t $$\n",
    "définit un produit scalaire sur $E$.\n",
    "\n",
    "### 4.3\n",
    "On note $(P_n)_{n \\geq 1}$ le SON obtenu par\n",
    "orthonormalisation de $\\mathbf{R}[X] \\backslash \\mathbf{R}$. Calculer $P_i$,\n",
    "$i=1,\\dots,3$."
   ]
  }
 ],
 "metadata": {
  "kernelspec": {
   "display_name": "Python 3",
   "language": "python",
   "name": "python3"
  },
  "language_info": {
   "codemirror_mode": {
    "name": "ipython",
    "version": 3
   },
   "file_extension": ".py",
   "mimetype": "text/x-python",
   "name": "python",
   "nbconvert_exporter": "python",
   "pygments_lexer": "ipython3",
   "version": "3.7.6"
  }
 },
 "nbformat": 4,
 "nbformat_minor": 4
}
