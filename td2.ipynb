{
 "cells": [
  {
   "cell_type": "markdown", 
   "metadata": {},
   "source": [
    "# TD 2 - Théorème de Cauchy-Lipschitz"
   ]
  },
  {
   "cell_type": "markdown",
   "metadata": {},
   "source": [
    "## Exercice 2\n",
    "Soit $f:\\Omega \\subset \\mathbf{R} \\times \\mathbf{R}^n \\to \\mathbf{R}^n$, $\\Omega$\n",
    "ouvert, $f$ continue, et soit $(t_0,x_0) \\in \\Omega$. Une solution du\n",
    "problème de Cauchy de second membre $f$ et de condition initiale\n",
    "$(t_0,x_0)$ est un couple $(I,x)$ où $I$ est un intervalle ouvert de $\\mathbf{R}$ et $x:I\n",
    "\\to \\mathbf{R}^n$ une fonction dérivable telle que\n",
    "$$ \\left\\{ \\begin{array}{l}\n",
    "  \\dot{x}(t)=f(t,x(t)),\\ t \\in I\\\\\n",
    "  x(t_0)=x_0.\n",
    "\\end{array} \\right. $$\n",
    "\n",
    "La définition précédente implique en particulier qu'une solution\n",
    "$(I,x)$ est telle que $t_0 \\in I$ (l'intervalle ouvert est donc non-vide),\n",
    "que $(t,x(t)) \\in \\Omega$ quel que soit $t \\in I$, et que $x \\in \n",
    "\\mathscr{C}^1(I,\\mathbf{R}^n)$."
   ]
  },
  {
   "cell_type": "markdown",
   "metadata": {},
   "source": [
    "### 2.5. \n",
    "\n"
   ]
  },
  {
   "cell_type": "code",
   "execution_count": 1,
   "metadata": {},
   "outputs": [
    {
     "data": {
      "image/png": "[encoded data removed]",
      "text/plain": [
       "<Figure size 432x288 with 1 Axes>"
      ]
     },
     "metadata": {
      "needs_background": "light"
     },
     "output_type": "display_data"
    }
   ],
   "source": [
    "import jax.numpy as np\n",
    "from scipy.integrate import odeint # debug: sould be ivp\n",
    "import matplotlib.pyplot as plt\n",
    "\n",
    "plt.ion() # interactive mode on\n",
    "\n",
    "def f1(t, x):\n",
    "    \"\"\"dx = f1(t, x)\n",
    "      \n",
    "    Second membre\"\"\"\n",
    "    dx = x\n",
    "    return dx\n",
    "\n",
    "t0 = -5.\n",
    "tf = 5.\n",
    "N = 100\n",
    "tspan = np.linspace(t0, tf, N)\n",
    "\n",
    "x0 = -0.5\n",
    "x = odeint(lambda x, t: f1(t, x), x0, tspan)\n",
    "plt.plot(tspan, x)\n",
    "\n",
    "x0 = 0.\n",
    "x = odeint(lambda x, t: f1(t, x), x0, tspan)\n",
    "plt.plot(tspan, x)\n",
    "\n",
    "x0 = 0.5\n",
    "x = odeint(lambda x, t: f1(t, x), x0, tspan)\n",
    "plt.plot(tspan, x)\n",
    "\n",
    "x0 = 1.\n",
    "x = odeint(lambda x, t: f1(t, x), x0, tspan)\n",
    "plt.plot(tspan, x)\n",
    "\n",
    "plt.show()"
   ]
  },
  {
   "cell_type": "code",
   "execution_count": null,
   "metadata": {},
   "outputs": [],
   "source": []
  }
 ],
 "metadata": {
  "kernelspec": {
   "display_name": "Python 3",
   "language": "python",
   "name": "python3"
  },
  "language_info": {
   "codemirror_mode": {
    "name": "ipython",
    "version": 3
   },
   "file_extension": ".py",
   "mimetype": "text/x-python",
   "name": "python",
   "nbconvert_exporter": "python",
   "pygments_lexer": "ipython3",
   "version": "3.7.6"
  }
 },
 "nbformat": 4,
 "nbformat_minor": 4
}
