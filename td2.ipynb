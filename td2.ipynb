{
 "cells": [
  {
   "cell_type": "markdown",
   "metadata": {},
   "source": [
    "# TD 2 - Théorème de Cauchy-Lipschitz\n",
    "<a href=\"https://colab.research.google.com/github/jbcaillau/mi2/blob/master/td2.ipynb\">\n",
    "<img src=\"https://colab.research.google.com/assets/colab-badge.svg\" alt=\"Open In Colab\" style=\"float: left;\"/></a>"
   ]
  },
  {
   "cell_type": "markdown",
   "metadata": {},
   "source": [
    "Soit $f:\\Omega \\subset \\mathbf{R} \\times \\mathbf{R}^n \\to \\mathbf{R}^n$, $\\Omega$\n",
    "ouvert, $f$ continue, et soit $(t_0,x_0) \\in \\Omega$. Une solution du\n",
    "problème de Cauchy de second membre $f$ et de condition initiale\n",
    "$(t_0,x_0)$ est un couple $(I,x)$ où $I$ est un intervalle ouvert de $\\mathbf{R}$ et $x:I\n",
    "\\to \\mathbf{R}^n$ une fonction dérivable telle que\n",
    "$$ \\left\\{ \\begin{array}{l}\n",
    "  \\dot{x}(t)=f(t,x(t)),\\ t \\in I\\\\\n",
    "  x(t_0)=x_0.\n",
    "\\end{array} \\right. $$\n",
    "\n",
    "La définition précédente implique en particulier qu'une solution\n",
    "$(I,x)$ est telle que $t_0 \\in I$ (l'intervalle ouvert est donc non-vide),\n",
    "que $(t,x(t)) \\in \\Omega$ quel que soit $t \\in I$, et que $x \\in \n",
    "\\mathscr{C}^1(I,\\mathbf{R}^n)$.\n",
    "\n",
    "La définition précédente implique en particulier qu'une solution\n",
    "$(I,x)$ est telle que $t_0 \\in I$ (l'intervalle ouvert est donc non-vide),\n",
    "que $(t,x(t)) \\in \\Omega$ quel que soit $t \\in I$, et que $x \\in \n",
    "\\mathscr{C}^1(I,\\mathbf{R}^n)$. On aura besoin de la généralisation suivante du\n",
    "théorème du point fixe."
   ]
  },
  {
   "cell_type": "markdown",
   "metadata": {},
   "source": [
    "## Exercice 1\n",
    "Soit $F$ une partie fermée (et non-vide) d'un espace de Banach $E$,\n",
    "et soit $g:F \\to F$ telle que $g^p$ soit contractante pour un certain naturel $p$.\n",
    "Montrer que $g$ possède un unique point fixe."
   ]
  },
  {
   "cell_type": "markdown",
   "metadata": {},
   "source": [
    "## Exercice 2"
   ]
  },
  {
   "cell_type": "markdown",
   "metadata": {},
   "source": [
    "### 2.1\n",
    "On suppose $f$ continue sur l'ouvert $\\Omega$. Montrer que l'ensemble des solutions ordonné par\n",
    "$$ (I,x) \\leq (J,y) \\iff I \\subset J \\text{ et } x=y_{|I} $$\n",
    "et dont on admet qu'il est non-vide (Théorème de Peano : la\n",
    "seule continuité de $f$ garantit l'existence de solution)\n",
    "possède un élément maximal (on parle de _solution maximale_ du\n",
    "problème de Cauchy)."
   ]
  },
  {
   "cell_type": "markdown",
   "metadata": {},
   "source": [
    "### 2.2\n",
    "On suppose désormais que $f$ est\n",
    "_localement Lipschitzienne en_ $x$, _i.e._\n",
    "que tout point de $\\Omega$ possède un voisinage $V$ sur lequel $f$ est\n",
    "Lipschitzienne en $x$ : il existe $k \\geq 0$ tel que pour tous $t,x,y$ tels\n",
    "que $(t,x)$ et $(t,y)$ soient dans $V$,\n",
    "\\begin{equation} \\tag{1}\n",
    "  |f(t,x)-f(t,y)| \\leq k|x-y|.\n",
    "\\end{equation}\n",
    "Dans (1), $|.|$ désigne l'une quelconque des normes\n",
    "équivalentes sur $\\mathbf{R}^n$.\n",
    "\n",
    "Montrer qu'il existe un voisinage $C=B_f(t_0,\\eta) \\times\n",
    "B_f(x_0,\\varepsilon)$ (ou _cylindre de sécurité_) sur lequel $f$ est\n",
    "Lipschitzienne en $x$ et tel que $\\eta \\sup_C |f| \\leq \\varepsilon$."
   ]
  },
  {
   "cell_type": "markdown",
   "metadata": {},
   "source": [
    "### 2.3\n",
    "Soit $E=\\mathscr{C}^0(B_f(t_0,\\eta),\\mathbf{R}^n)$ muni de la norme\n",
    "$\\|x\\|_\\infty = \\sup_{B_f(t_0,\\eta)} |x|$,\n",
    "soit $F \\subset E$ l'ensemble des fonctions de $E$ à valeurs dans $B_f(x_0,\\varepsilon)$,\n",
    "et soit $\\phi : F \\to F$ définie par\n",
    "$$ \\phi(x)(t) = x_0 + \\int_{t_0}^t f(s,x(s))\\,\\mathrm{d}s. $$\n",
    "Montrer que $\\phi$ possède un unique point fixe. En déduire\n",
    "l'existence d'une solution pour le problème de Cauchy."
   ]
  },
  {
   "cell_type": "markdown",
   "metadata": {},
   "source": [
    "### 2.4\n",
    " Montrer que le problème possède une et une seule\n",
    "solution maximale (au sens de la question 2.1). Montrer que les\n",
    "courbes intégrales maximales forment une partition de $\\Omega$."
   ]
  },
  {
   "cell_type": "markdown",
   "metadata": {},
   "source": [
    "### 2.5. \n",
    " Discuter les trois exemples suivants : $\\dot{x}(t)=x(t)$,\n",
    "$\\dot{x(t)}=x^2(t)$, et $\\dot{x}(t)=\\sqrt{|x(t)|}$."
   ]
  },
  {
   "cell_type": "code",
   "execution_count": null,
   "metadata": {},
   "outputs": [],
   "source": [
    "import numpy as np\n",
    "from scipy.integrate import odeint\n",
    "import matplotlib.pyplot as plt\n",
    "plt.ion() # interactive mode on"
   ]
  },
  {
   "cell_type": "code",
   "execution_count": null,
   "metadata": {},
   "outputs": [],
   "source": [
    "def f1(t, x):\n",
    "    \"\"\"dx = f1(t, x)\n",
    "      \n",
    "    Second membre\"\"\"\n",
    "    dx = x\n",
    "    return dx\n",
    "\n",
    "N = 20\n",
    "xx0 = np.linspace(-1., 1., N)\n",
    "t0 = -1.\n",
    "tf = 1.\n",
    "plt.xlabel('$t$')\n",
    "plt.ylabel('$x(t)$')\n",
    "plt.title('$\\dot{x}(t)=x(t)$')\n",
    "plt.xlim(t0, tf)\n",
    "plt.ylim(-1., 1.)\n",
    "for x0 in np.nditer(xx0):\n",
    "    M = 100\n",
    "    tspan = np.linspace(t0, tf, M)\n",
    "    x = odeint(lambda x, t: f1(t, x), x0, tspan)\n",
    "    plt.plot(tspan, x)\n",
    "plt.show()\n",
    "np.linspace(0, 1, 10, False)"
   ]
  },
  {
   "cell_type": "code",
   "execution_count": null,
   "metadata": {},
   "outputs": [],
   "source": [
    "def f2(t, x):\n",
    "    \"\"\"dx = f1(t, x)\n",
    "      \n",
    "    Second membre\"\"\"\n",
    "    dx = x**2\n",
    "    return dx\n",
    "\n",
    "N = 10\n",
    "xx0 = np.hstack((np.linspace(-20., 0., 10*N), np.linspace(0., 1., N)))\n",
    "t0 = -1.\n",
    "tf = 1.\n",
    "plt.xlabel('$t$')\n",
    "plt.ylabel('$x(t)$')\n",
    "plt.title('$\\dot{x}(t)=x(t)$')\n",
    "plt.xlim(t0, tf)\n",
    "plt.ylim(-1., 1.)\n",
    "for x0 in np.nditer(xx0):\n",
    "    M = 100\n",
    "    if x0 < 0.:\n",
    "         tf = 1.\n",
    "         tspan = np.linspace(t0, tf, M, endpoint=False)\n",
    "    elif x0 > 0.:\n",
    "         tf = np.amin([ 1., t0+1./x0 ])\n",
    "         tspan = np.linspace(t0, tf, M, endpoint=False)\n",
    "    x = odeint(lambda x, t: f2(t, x), x0, tspan)\n",
    "    plt.plot(tspan, x)\n",
    "plt.show()"
   ]
  },
  {
   "cell_type": "markdown",
   "metadata": {},
   "source": [
    "## Exercice 3\n",
    "Soit $f : I \\times \\mathbf{R} \\to \\mathbf{R}$, $I$ ouvert, $f$ continue ;\n",
    "on suppose que $f$ est Lipschitzienne en $x$ sur tout $I \\times \\mathbf{R}$."
   ]
  },
  {
   "cell_type": "markdown",
   "metadata": {},
   "source": [
    "### 3.1\n",
    "Montrer que le problème possède une\n",
    "_solution globale_ (_i.e._ définie sur $I$ tout entier)."
   ]
  },
  {
   "cell_type": "markdown",
   "metadata": {},
   "source": [
    "### 3.2\n",
    "Appliquer la question précédente au problème de\n",
    "Cauchy linéaire\n",
    "$$ \\dot{x}=A(t)x+b(t)$$\n",
    "avec $A$ et $b$ continues\n",
    "de $I$ dans $\\mathscr{L}(\\mathbf{R}^n,\\mathbf{R}^n)$ et $\\mathbf{R}^n$, respectivement."
   ]
  }
 ],
 "metadata": {
  "kernelspec": {
   "display_name": "Python 3",
   "language": "python",
   "name": "python3"
  },
  "language_info": {
   "codemirror_mode": {
    "name": "ipython",
    "version": 3
   },
   "file_extension": ".py",
   "mimetype": "text/x-python",
   "name": "python",
   "nbconvert_exporter": "python",
   "pygments_lexer": "ipython3",
   "version": "3.7.6"
  }
 },
 "nbformat": 4,
 "nbformat_minor": 4
}
