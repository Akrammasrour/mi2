{
 "cells": [
  {
   "cell_type": "markdown",
   "metadata": {},
   "source": [
    "![PNS](http://caillau.perso.math.cnrs.fr/logo-pns.png)\n",
    "## MAM3 - MI2\n",
    "# TD 3 - Espaces de suites\n",
    "\n",
    "[![Binder](https://mybinder.org/badge_logo.svg)](https://mybinder.org/v2/gh/jbcaillau/mi2/master?urlpath=lab/tree/td3/td3.ipynb)\n",
    "\n",
    "[![Open In Colab](https://colab.research.google.com/assets/colab-badge.svg)](https://colab.research.google.com/github/jbcaillau/mi2/blob/master/td3/td3.ipynb)\n",
    "\n",
    "Pour $1 \\leq p < \\infty$ on définit $\\ell^p$ l'ensemble des suites\n",
    "réelles de puissance $p$-ième sommable, et $\\ell^\\infty$ l'ensemble des\n",
    "suites réelles bornées. (Les définitions et résultats qui suivent valent\n",
    "aussi pour des suites complexes.)\n",
    "\n",
    "## Exercice 1\n",
    "Montrer qu'on définit une norme sur $\\ell^p$ en posant\n",
    "$$\\|(x_k)_k\\|_p = (\\sum_k |x_k|^p)^{1/p},\\quad 1 \\leq p < \\infty,$$ et\n",
    "$$\\|(x_k)_k\\|_\\infty = \\sup_k |x_k|.$$\n",
    "\n",
    "## Exercice 2\n",
    "Soient $1 \\leq p < q \\leq \\infty$. Montrer que\n",
    "$\\ell^p \\subsetneq \\ell^q$, avec injection continue.\n",
    "\n",
    "## Exercice 3\n",
    "Montrer que $(\\ell^p,\\|.\\|_p)$ est un Banach, $1 \\leq p\n",
    "\\leq \\infty$."
   ]
  }
 ],
 "metadata": {
  "kernelspec": {
   "display_name": "Python 3",
   "language": "python",
   "name": "python3"
  },
  "language_info": {
   "codemirror_mode": {
    "name": "ipython",
    "version": 3
   },
   "file_extension": ".py",
   "mimetype": "text/x-python",
   "name": "python",
   "nbconvert_exporter": "python",
   "pygments_lexer": "ipython3",
   "version": "3.7.6"
  }
 },
 "nbformat": 4,
 "nbformat_minor": 4
}
